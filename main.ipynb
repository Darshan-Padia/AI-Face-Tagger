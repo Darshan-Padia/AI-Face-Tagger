{
 "cells": [
  {
   "cell_type": "code",
   "execution_count": 6,
   "metadata": {},
   "outputs": [],
   "source": [
    "import detect_faces\n",
    "import os\n",
    "all_photos = 'data_new/train_dataset_new'\n",
    "cropped_faces = 'data_new/cropped_faces_new'\n",
    "\n",
    "# step one detect faces and store them in a folder\n",
    "for photos in os.listdir(all_photos):\n",
    "    detect_faces.detect_and_crop_faces(os.path.join(all_photos, photos), cropped_faces)\n",
    "# detect_faces.detect_and_crop_faces(all_photos, cropped_faces)\n",
    " "
   ]
  },
  {
   "cell_type": "code",
   "execution_count": 8,
   "metadata": {},
   "outputs": [
    {
     "name": "stdout",
     "output_type": "stream",
     "text": [
      "kashal_vraj\n",
      "GTY_CPowell_GWBush_MEM_160822_16x9_992\n",
      "vraj_darshan\n",
      "Kaushal\n",
      "nishith_sir_test\n",
      "vivek_kaushal\n",
      "nishith_sir_4\n",
      "darshan_nishith_sir\n",
      "nishith_sir_3\n",
      "Darshan\n",
      "vivek\n",
      "nishith_sir_2\n",
      "vivek_darshan\n",
      "Nishith_sir\n",
      "darshan_kaushal\n",
      "Vraj\n",
      "0\n",
      "1\n",
      "2\n",
      "3\n",
      "4\n",
      "5\n",
      "6\n",
      "7\n",
      "8\n",
      "9\n",
      "10\n",
      "11\n",
      "12\n",
      "13\n",
      "14\n",
      "15\n",
      "16\n",
      "17\n",
      "18\n",
      "19\n",
      "20\n",
      "21\n",
      "22\n",
      "23\n",
      "24\n",
      "25\n",
      "26\n",
      "27\n",
      "28\n",
      "29\n",
      "30\n",
      "\n",
      "11\n",
      "Image kashal_vraj.1.jpg copied to cluster folder data_new/new_dbscann_jitter_1new_eps0.34_large_final_new/photos_g0\n",
      "Image vraj_darshan.2.jpg copied to cluster folder data_new/new_dbscann_jitter_1new_eps0.34_large_final_new/photos_g0\n",
      "Image darshan_nishith_sir.2.jpg copied to cluster folder data_new/new_dbscann_jitter_1new_eps0.34_large_final_new/photos_g0\n",
      "Image kashal_vraj.2.jpg copied to cluster folder data_new/new_dbscann_jitter_1new_eps0.34_large_final_new/photos_g1\n",
      "Image vivek_kaushal.2.jpg copied to cluster folder data_new/new_dbscann_jitter_1new_eps0.34_large_final_new/photos_g1\n",
      "Image GTY_CPowell_GWBush_MEM_160822_16x9_992.1.jpg copied to cluster folder data_new/new_dbscann_jitter_1new_eps0.34_large_final_new/photos_g2\n",
      "Image GTY_CPowell_GWBush_MEM_160822_16x9_992.2.jpg copied to cluster folder data_new/new_dbscann_jitter_1new_eps0.34_large_final_new/photos_g3\n",
      "Image vraj_darshan.1.jpg copied to cluster folder data_new/new_dbscann_jitter_1new_eps0.34_large_final_new/photos_g4\n",
      "Image darshan_nishith_sir.3.jpg copied to cluster folder data_new/new_dbscann_jitter_1new_eps0.34_large_final_new/photos_g4\n",
      "Image Darshan.1.jpg copied to cluster folder data_new/new_dbscann_jitter_1new_eps0.34_large_final_new/photos_g4\n",
      "Image vivek_darshan.2.jpg copied to cluster folder data_new/new_dbscann_jitter_1new_eps0.34_large_final_new/photos_g4\n",
      "Image darshan_kaushal.1.jpg copied to cluster folder data_new/new_dbscann_jitter_1new_eps0.34_large_final_new/photos_g4\n",
      "Image Kaushal.1.jpg copied to cluster folder data_new/new_dbscann_jitter_1new_eps0.34_large_final_new/photos_g5\n",
      "Image Kaushal.2.jpg copied to cluster folder data_new/new_dbscann_jitter_1new_eps0.34_large_final_new/photos_g6\n",
      "Image nishith_sir_test.1.jpg copied to cluster folder data_new/new_dbscann_jitter_1new_eps0.34_large_final_new/photos_g7\n",
      "Image nishith_sir_4.1.jpg copied to cluster folder data_new/new_dbscann_jitter_1new_eps0.34_large_final_new/photos_g7\n",
      "Image darshan_nishith_sir.1.jpg copied to cluster folder data_new/new_dbscann_jitter_1new_eps0.34_large_final_new/photos_g7\n",
      "Image nishith_sir_3.1.jpg copied to cluster folder data_new/new_dbscann_jitter_1new_eps0.34_large_final_new/photos_g7\n",
      "Image nishith_sir_2.1.jpg copied to cluster folder data_new/new_dbscann_jitter_1new_eps0.34_large_final_new/photos_g7\n",
      "Image Nishith_sir.1.jpg copied to cluster folder data_new/new_dbscann_jitter_1new_eps0.34_large_final_new/photos_g7\n",
      "Image vivek_kaushal.1.jpg copied to cluster folder data_new/new_dbscann_jitter_1new_eps0.34_large_final_new/photos_g8\n",
      "Image vivek.1.jpg copied to cluster folder data_new/new_dbscann_jitter_1new_eps0.34_large_final_new/photos_g8\n",
      "Image vivek_darshan.1.jpg copied to cluster folder data_new/new_dbscann_jitter_1new_eps0.34_large_final_new/photos_g8\n",
      "Image darshan_nishith_sir.4.jpg copied to cluster folder data_new/new_dbscann_jitter_1new_eps0.34_large_final_new/photos_g9\n",
      "Image Vraj.1.jpg copied to cluster folder data_new/new_dbscann_jitter_1new_eps0.34_large_final_new/photos_g10\n"
     ]
    }
   ],
   "source": [
    "import dbcann\n",
    "# step two create pickle files and cluster ( dbscann part )\n",
    "cropped_faces = 'data_new/cropped_faces_new'\n",
    "\n",
    "input_folder = cropped_faces\n",
    "output_folder = 'data_new/new_dbscann_jitter_1new_eps0.34_large_final_new'\n",
    "dbcann.cluster_faces(input_folder, output_folder)\n"
   ]
  },
  {
   "cell_type": "code",
   "execution_count": 9,
   "metadata": {},
   "outputs": [],
   "source": [
    "\n",
    "import os\n",
    "import shutil\n",
    "from make_pickle_files import make_pickle_files_for_respective_folder\n",
    "# generating pickle files\n",
    "output_folder = 'data_new/new_dbscann_jitter_1new_eps0.34_large_final_new'\n",
    "\n",
    "for folder in os.listdir(output_folder):\n",
    "    for image_file in os.listdir(os.path.join(output_folder, folder)):\n",
    "        image_path = os.path.join(output_folder, folder, image_file)\n",
    "        if image_path.endswith('.jpg') or image_path.endswith('.jpeg') or image_path.endswith('.png'):\n",
    "            make_pickle_files_for_respective_folder(image_path, os.path.join(output_folder, folder))\n",
    "            \n"
   ]
  },
  {
   "cell_type": "code",
   "execution_count": 4,
   "metadata": {},
   "outputs": [
    {
     "name": "stdout",
     "output_type": "stream",
     "text": [
      "The closest match is in the folder: photos_g3\n",
      "The closest match is in the folder: photos_g3\n"
     ]
    }
   ],
   "source": [
    "#getting a new image and finding the closest match\n",
    "import cosine_sim\n",
    "import pickle\n",
    "output_folder = 'data_new/new_dbscann_jitter_1new_eps0.34_large_final_new'\n",
    "\n",
    "new_image = 'data_new/darshan_test_image.jpeg'\n",
    "cosine_sim.find_closest_match(new_image, output_folder)\n",
    "cosine_sim.find_closest_match_majority(new_image, output_folder, 0.9)\n"
   ]
  },
  {
   "cell_type": "code",
   "execution_count": 2,
   "metadata": {},
   "outputs": [
    {
     "ename": "NameError",
     "evalue": "name 'cosine_sim' is not defined",
     "output_type": "error",
     "traceback": [
      "\u001b[0;31m---------------------------------------------------------------------------\u001b[0m",
      "\u001b[0;31mNameError\u001b[0m                                 Traceback (most recent call last)",
      "Cell \u001b[0;32mIn[2], line 8\u001b[0m\n\u001b[1;32m      5\u001b[0m person2 \u001b[38;5;241m=\u001b[39m \u001b[38;5;124m'\u001b[39m\u001b[38;5;124mdata_new/darshan_test_image2.jpeg\u001b[39m\u001b[38;5;124m'\u001b[39m\n\u001b[1;32m      7\u001b[0m \u001b[38;5;66;03m# first getting the closest match for the perosn1\u001b[39;00m\n\u001b[0;32m----> 8\u001b[0m person1_folder_path \u001b[38;5;241m=\u001b[39m \u001b[43mcosine_sim\u001b[49m\u001b[38;5;241m.\u001b[39mfind_closest_match_majority(person1, output_folder, \u001b[38;5;241m0.9\u001b[39m)\n\u001b[1;32m      9\u001b[0m \u001b[38;5;66;03m# now getting the closest match for the person2\u001b[39;00m\n\u001b[1;32m     10\u001b[0m \u001b[38;5;66;03m# person2_folder_path = cosine_sim.find_closest_match_majority(person2, output_folder, 0.9)\u001b[39;00m\n\u001b[1;32m     12\u001b[0m \u001b[38;5;28mprint\u001b[39m(person1_folder_path)\n",
      "\u001b[0;31mNameError\u001b[0m: name 'cosine_sim' is not defined"
     ]
    }
   ],
   "source": [
    "# for two person we will have 2 images.. we will return the image path where both the images(person) are present\n",
    "# we will return the image path where both the images(person) are present, using prefix logic\n",
    "# we will have two images\n",
    "person1 = 'data_new/darshan_test_image.jpeg'\n",
    "person2 = 'data_new/darshan_test_image2.jpeg'\n",
    "\n",
    "# first getting the closest match for the perosn1\n",
    "person1_folder_path = cosine_sim.find_closest_match_majority(person1, output_folder, 0.9)\n",
    "# now getting the closest match for the person2\n",
    "# person2_folder_path = cosine_sim.find_closest_match_majority(person2, output_folder, 0.9)\n",
    "\n",
    "print(person1_folder_path)\n",
    "# print(person2_folder_path)\n"
   ]
  },
  {
   "cell_type": "code",
   "execution_count": null,
   "metadata": {},
   "outputs": [],
   "source": []
  }
 ],
 "metadata": {
  "kernelspec": {
   "display_name": "Python 3",
   "language": "python",
   "name": "python3"
  },
  "language_info": {
   "codemirror_mode": {
    "name": "ipython",
    "version": 3
   },
   "file_extension": ".py",
   "mimetype": "text/x-python",
   "name": "python",
   "nbconvert_exporter": "python",
   "pygments_lexer": "ipython3",
   "version": "3.10.12"
  }
 },
 "nbformat": 4,
 "nbformat_minor": 2
}
